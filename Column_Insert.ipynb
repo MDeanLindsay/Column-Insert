{
 "cells": [
  {
   "cell_type": "markdown",
   "id": "2817daf7-d14d-45c6-b899-78bb4b7b4d2d",
   "metadata": {},
   "source": [
    "# Datawarehouse Single Column Insert.\n",
    "\n",
    "#### With great power comes great responsibility, try not to nuke the data warehouse.\n",
    "\n",
    "We operate downstream, and new columns are added to the ERP on a whim. \n",
    "\n",
    "Backfilling core reporting tables in their entirety takes an annoying amount of time, which is why this exists.\n",
    "\n",
    "- Check data types before you import.\n",
    "  - Use the query below, don't run all cells.\n",
    "  - Do **NOT** import any columns with CLOB data types.\n",
    "  - They are over 8,000 characters; datawarehouse doesn't like that.\n",
    "- Make sure you check that id is a unique key."
   ]
  },
  {
   "cell_type": "code",
   "execution_count": null,
   "id": "72f847e0-6206-4a8b-b990-e7f4f06af370",
   "metadata": {},
   "outputs": [],
   "source": [
    "import pandas as pd\n",
    "import pyodbc\n",
    "import numpy as np\n",
    "import os\n",
    "\n",
    "from config import *"
   ]
  },
  {
   "cell_type": "code",
   "execution_count": null,
   "id": "c67c0fc7-4037-45c8-8954-26cba6992dad",
   "metadata": {},
   "outputs": [],
   "source": [
    "# New column to be added.\n",
    "new_column = \"\"\n",
    "# The unique key you're joining the record by; be sure to check if it's actually unique.\n",
    "key = \"\"\n",
    "# NetSuite table name.\n",
    "target_table = \"\""
   ]
  },
  {
   "cell_type": "code",
   "execution_count": null,
   "id": "e47e244a-aca7-4776-9bf0-a88d3e87d022",
   "metadata": {},
   "outputs": [],
   "source": [
    "# Create a connection using pyodbc for NetSuite.\n",
    "connection_string = f'DSN={dsn};UID={netsuite_user};PWD={netsuite_pw}'\n",
    "\n",
    "# Execute the query; explicitly closing connections is cringe.\n",
    "with pyodbc.connect(connection_string) as connection:\n",
    "    with connection.cursor() as cursor:\n",
    "        \n",
    "        # Query; add columns from table needed here.\n",
    "        query = f\"\"\" SELECT TABLE_NAME, COLUMN_NAME, REMARKS, DATA_TYPE, TYPE_NAME FROM OA_COLUMNS WHERE TABLE_NAME = '{target_table}' AND COLUMN_NAME = '{new_column}' \"\"\"\n",
    "        cursor.execute(query)\n",
    "        \n",
    "        # Fetch, define column names.\n",
    "        columns = [column[0] for column in cursor.description]\n",
    "        results = cursor.fetchall()\n",
    "\n",
    "        # Convert to df.\n",
    "        df = pd.DataFrame.from_records(results, columns=columns)\n",
    "\n",
    "df"
   ]
  },
  {
   "cell_type": "code",
   "execution_count": null,
   "id": "768da3c3-2428-450f-9e4d-e410c0dcec05",
   "metadata": {},
   "outputs": [],
   "source": [
    "# Create a connection using pyodbc for NetSuite.\n",
    "connection_string = f'DSN={dsn};UID={netsuite_user};PWD={netsuite_pw}'\n",
    "\n",
    "# Execute the query; explicitly closing connections is cringe.\n",
    "with pyodbc.connect(connection_string) as connection:\n",
    "    with connection.cursor() as cursor:\n",
    "        \n",
    "        # Query; add columns from table needed here.\n",
    "        query = 'SELECT '+key+', '+new_column+' FROM '+target_table+' WHERE '+new_column+' IS NOT NULL'\n",
    "        cursor.execute(query)\n",
    "        \n",
    "        # Fetch, define column names.\n",
    "        columns = [column[0] for column in cursor.description]\n",
    "        results = cursor.fetchall()\n",
    "\n",
    "        # Convert to df.\n",
    "        df = pd.DataFrame.from_records(results, columns=columns)\n",
    "\n",
    "df.shape"
   ]
  },
  {
   "cell_type": "code",
   "execution_count": null,
   "id": "0a9e57a4-daa7-4e9b-ad3d-f224767d1e92",
   "metadata": {},
   "outputs": [],
   "source": [
    "# Create connection using pyodbc for local servers.\n",
    "connection_string = \"DRIVER={ODBC Driver 17 for SQL Server};SERVER=\"+server+\";DATABASE=\"+db+\";UID=\"+local_user+\";PWD=\"+local_pw+\";Trusted_Connection=YES\"\n",
    "\n",
    "# We are creating a table to dump output from NetSuite into.\n",
    "with pyodbc.connect(connection_string) as connection:\n",
    "    with connection.cursor() as cursor:\n",
    "        # Drop table if it exists\n",
    "        cursor.execute(\"IF OBJECT_ID('Data_Imports.dbo.Column_Insert', 'U') IS NOT NULL DROP TABLE Data_Imports.dbo.Column_Insert\")\n",
    "        connection.commit()\n",
    "\n",
    "        # Create a new table based on DataFrame's columns\n",
    "        create_table_statement = \"CREATE TABLE Data_Imports.dbo.Column_Insert (\"\n",
    "        create_table_statement += \", \".join([f\"[{col}] VARCHAR(250)\" for col in df.columns]) + \")\"\n",
    "        cursor.execute(create_table_statement)\n",
    "        connection.commit()\n",
    "\n",
    "        # Insert DataFrame into the new table\n",
    "        for index, row in df.iterrows():\n",
    "            placeholders = ', '.join('?' for _ in row)\n",
    "            sql = \"INSERT INTO Data_Imports.dbo.Column_Insert VALUES (\" + placeholders + \")\"\n",
    "            cursor.execute(sql, tuple(row))\n",
    "        \n",
    "        connection.commit()"
   ]
  },
  {
   "cell_type": "code",
   "execution_count": null,
   "id": "ee5434fb-d002-4c87-bf63-2fb77ae72fc2",
   "metadata": {},
   "outputs": [],
   "source": [
    "# Check if column already exists in local server's table. If so, drop and create.\n",
    "connection_string = \"DRIVER={ODBC Driver 17 for SQL Server};SERVER=\"+server+\";DATABASE=\"+db2+\";UID=\"+local_user+\";PWD=\"+local_pw+\";Trusted_Connection=YES\"\n",
    "\n",
    "with pyodbc.connect(connection_string) as connection:\n",
    "    with connection.cursor() as cursor:\n",
    "        # Check and drop column if it exists\n",
    "        cursor.execute(f\"\"\"\n",
    "        IF EXISTS (SELECT * FROM INFORMATION_SCHEMA.COLUMNS \n",
    "                   WHERE TABLE_SCHEMA = 'ns' \n",
    "                   AND TABLE_NAME = ? \n",
    "                   AND COLUMN_NAME = ?)\n",
    "        BEGIN\n",
    "            EXEC('ALTER TABLE NetSuite.ns.[' + ? + '] DROP COLUMN ' + ?);\n",
    "        END\n",
    "        \"\"\", (target_table, new_column, target_table, new_column))\n",
    "        \n",
    "        # Add new column\n",
    "        cursor.execute(f\"ALTER TABLE NetSuite.ns.[{target_table}] ADD {new_column} VARCHAR(250);\")\n",
    "        connection.commit()"
   ]
  },
  {
   "cell_type": "code",
   "execution_count": null,
   "id": "78f391f3-1d3b-4d42-b7be-f867cedd7969",
   "metadata": {},
   "outputs": [],
   "source": [
    "with pyodbc.connect(connection_string) as connection:\n",
    "    with connection.cursor() as cursor:\n",
    "        # Execute the UPDATE statement with JOIN\n",
    "        sql_update = f\"\"\"\n",
    "        UPDATE A\n",
    "        SET A.{new_column} = B.{new_column}\n",
    "        FROM NetSuite.ns.[{target_table}] A\n",
    "        INNER JOIN DATA_IMPORTS.dbo.Column_Insert B ON A.{key} = B.{key};\n",
    "        \"\"\"\n",
    "        cursor.execute(sql_update)\n",
    "        connection.commit()"
   ]
  }
 ],
 "metadata": {
  "kernelspec": {
   "display_name": "Python 3 (ipykernel)",
   "language": "python",
   "name": "python3"
  },
  "language_info": {
   "codemirror_mode": {
    "name": "ipython",
    "version": 3
   },
   "file_extension": ".py",
   "mimetype": "text/x-python",
   "name": "python",
   "nbconvert_exporter": "python",
   "pygments_lexer": "ipython3",
   "version": "3.9.6"
  }
 },
 "nbformat": 4,
 "nbformat_minor": 5
}
